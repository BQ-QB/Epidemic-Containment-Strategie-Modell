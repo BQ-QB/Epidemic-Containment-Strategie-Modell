{
 "cells": [
  {
   "cell_type": "code",
   "execution_count": 1,
   "metadata": {},
   "outputs": [
    {
     "ename": "NameError",
     "evalue": "name 'n' is not defined",
     "output_type": "error",
     "traceback": [
      "\u001b[0;31m---------------------------------------------------------------------------\u001b[0m",
      "\u001b[0;31mNameError\u001b[0m                                 Traceback (most recent call last)",
      "\u001b[1;32m/Users/neOO/Documents/TIFX-04-22-18/Epidemic-Containment-Strategy-Modell/test_methods.ipynb Cell 1'\u001b[0m in \u001b[0;36m<cell line: 3>\u001b[0;34m()\u001b[0m\n\u001b[1;32m      <a href='vscode-notebook-cell:/Users/neOO/Documents/TIFX-04-22-18/Epidemic-Containment-Strategy-Modell/test_methods.ipynb#ch0000000?line=0'>1</a>\u001b[0m \u001b[39mimport\u001b[39;00m \u001b[39mnumpy\u001b[39;00m \u001b[39mas\u001b[39;00m \u001b[39mnp\u001b[39;00m\n\u001b[1;32m      <a href='vscode-notebook-cell:/Users/neOO/Documents/TIFX-04-22-18/Epidemic-Containment-Strategy-Modell/test_methods.ipynb#ch0000000?line=1'>2</a>\u001b[0m \u001b[39mfrom\u001b[39;00m \u001b[39msir_based\u001b[39;00m \u001b[39mimport\u001b[39;00m update_position\n\u001b[0;32m----> <a href='vscode-notebook-cell:/Users/neOO/Documents/TIFX-04-22-18/Epidemic-Containment-Strategy-Modell/test_methods.ipynb#ch0000000?line=2'>3</a>\u001b[0m update_position()\n",
      "File \u001b[0;32m~/Documents/TIFX-04-22-18/Epidemic-Containment-Strategy-Modell/sir_based.py:134\u001b[0m, in \u001b[0;36mupdate_position\u001b[0;34m()\u001b[0m\n\u001b[1;32m    <a href='file:///~/Documents/TIFX-04-22-18/Epidemic-Containment-Strategy-Modell/sir_based.py?line=131'>132</a>\u001b[0m \u001b[39mdef\u001b[39;00m \u001b[39mupdate_position\u001b[39m():\n\u001b[1;32m    <a href='file:///~/Documents/TIFX-04-22-18/Epidemic-Containment-Strategy-Modell/sir_based.py?line=132'>133</a>\u001b[0m     k \u001b[39m=\u001b[39m \u001b[39m0.04\u001b[39m\n\u001b[0;32m--> <a href='file:///~/Documents/TIFX-04-22-18/Epidemic-Containment-Strategy-Modell/sir_based.py?line=133'>134</a>\u001b[0m     \u001b[39mfor\u001b[39;00m agent \u001b[39min\u001b[39;00m \u001b[39mrange\u001b[39m(n):\n\u001b[1;32m    <a href='file:///~/Documents/TIFX-04-22-18/Epidemic-Containment-Strategy-Modell/sir_based.py?line=134'>135</a>\u001b[0m         prob_x \u001b[39m=\u001b[39m [\u001b[39mmax\u001b[39m(\u001b[39m0\u001b[39m,\u001b[39m1\u001b[39m\u001b[39m/\u001b[39m\u001b[39m3\u001b[39m \u001b[39m+\u001b[39mk\u001b[39m*\u001b[39m(x[agent]\u001b[39m-\u001b[39mx_init[agent])), \u001b[39m1\u001b[39m\u001b[39m/\u001b[39m\u001b[39m3\u001b[39m, \u001b[39mmax\u001b[39m(\u001b[39m0\u001b[39m, \u001b[39m1\u001b[39m\u001b[39m/\u001b[39m\u001b[39m3\u001b[39m\u001b[39m-\u001b[39mk\u001b[39m*\u001b[39m(x[agent]\u001b[39m-\u001b[39mx_init[agent]))]\n\u001b[1;32m    <a href='file:///~/Documents/TIFX-04-22-18/Epidemic-Containment-Strategy-Modell/sir_based.py?line=135'>136</a>\u001b[0m         prob_x \u001b[39m/\u001b[39m\u001b[39m=\u001b[39m \u001b[39msum\u001b[39m(prob_x)\n",
      "\u001b[0;31mNameError\u001b[0m: name 'n' is not defined"
     ]
    }
   ],
   "source": [
    "import numpy as np\n",
    "from sir_based import update_position\n",
    "update_position()"
   ]
  },
  {
   "cell_type": "code",
   "execution_count": null,
   "metadata": {},
   "outputs": [],
   "source": [
    "agent_positions = np.array((n, 2), dtype=float)  # first dimension is no. agents, second dimension is for x and y positions, respectively\n",
    "\n",
    "random_walk_indices = np.randint(0, n, size=np.randint(0, n))   # sets which and how many agents should do the random walk\n",
    "random_walk_mask = np.zeros(shape=n, dtype=bool)    # masked array has same dimension as number of agents, n\n",
    "random_walk_mask[random_walk_indices] = True\n",
    "\n",
    "agent_positions[random_walk_mask] = random_walk(agent_positions[random_walk_mask])  # random_walk() is our update_positions()\n",
    "\n",
    "positions_before_hotwalk = agent_positions[~random_walk_mask]\n",
    "agent_positions[~random_walk_mask] = hotspot_walk(agent_positions[~random_walk_mask])\n",
    "agent_states = update_agent_states(agent_states, agent_positions)  # update the current agent_states to see which got infected, recovered etc.\n",
    "\n",
    "agent_positions[~random_walk_mask] = positions_before_hotwalk  # reset the positions of the agent who did the hotwalk"
   ]
  }
 ],
 "metadata": {
  "interpreter": {
   "hash": "aee8b7b246df8f9039afb4144a1f6fd8d2ca17a180786b69acc140d282b71a49"
  },
  "kernelspec": {
   "display_name": "Python 3.9.2 64-bit",
   "language": "python",
   "name": "python3"
  },
  "language_info": {
   "codemirror_mode": {
    "name": "ipython",
    "version": 3
   },
   "file_extension": ".py",
   "mimetype": "text/x-python",
   "name": "python",
   "nbconvert_exporter": "python",
   "pygments_lexer": "ipython3",
   "version": "3.9.2"
  },
  "orig_nbformat": 4
 },
 "nbformat": 4,
 "nbformat_minor": 2
}
